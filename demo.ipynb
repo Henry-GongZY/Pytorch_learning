{
 "cells": [
  {
   "cell_type": "code",
   "execution_count": 1,
   "outputs": [
    {
     "name": "stdout",
     "output_type": "stream",
     "text": [
      "tensor([[1, 2],\n",
      "        [3, 4]], dtype=torch.int32)\n"
     ]
    }
   ],
   "source": [
    "import numpy as np\n",
    "import torch\n",
    "a = [[1,2],[3,4]]\n",
    "t = torch.tensor(a,dtype=torch.int32)\n",
    "print(t)"
   ],
   "metadata": {
    "collapsed": false,
    "pycharm": {
     "name": "#%%\n"
    }
   }
  },
  {
   "cell_type": "code",
   "execution_count": 2,
   "outputs": [
    {
     "name": "stdout",
     "output_type": "stream",
     "text": [
      "tensor([[1., 1.],\n",
      "        [1., 1.]], dtype=torch.float64)\n",
      "tensor([[0.2591, 0.8321],\n",
      "        [0.5389, 0.6377]])\n"
     ]
    }
   ],
   "source": [
    "x_ones = torch.ones_like(t,dtype=torch.float64)\n",
    "print(x_ones)\n",
    "x_num = torch.rand_like(t,dtype = torch.float32)\n",
    "print(x_num)"
   ],
   "metadata": {
    "collapsed": false,
    "pycharm": {
     "name": "#%%\n"
    }
   }
  },
  {
   "cell_type": "code",
   "execution_count": 42,
   "outputs": [
    {
     "name": "stdout",
     "output_type": "stream",
     "text": [
      "tensor([[1., 2., 3.],\n",
      "        [4., 5., 6.]])\n",
      "tensor([[0, 0, 0],\n",
      "        [3, 3, 3]])\n"
     ]
    }
   ],
   "source": [
    "import torch\n",
    "a = [[1,2],[3,4],[5,6]]\n",
    "t = torch.tensor(a,dtype=torch.float32)\n",
    "t = t.reshape((2,3))\n",
    "print(t)\n",
    "t = torch.where(t>3,3,0)\n",
    "print(t)\n"
   ],
   "metadata": {
    "collapsed": false,
    "pycharm": {
     "name": "#%%\n"
    }
   }
  }
 ],
 "metadata": {
  "kernelspec": {
   "display_name": "Python 3",
   "language": "python",
   "name": "python3"
  },
  "language_info": {
   "codemirror_mode": {
    "name": "ipython",
    "version": 2
   },
   "file_extension": ".py",
   "mimetype": "text/x-python",
   "name": "python",
   "nbconvert_exporter": "python",
   "pygments_lexer": "ipython2",
   "version": "2.7.6"
  }
 },
 "nbformat": 4,
 "nbformat_minor": 0
}