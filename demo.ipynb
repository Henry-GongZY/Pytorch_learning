{
 "cells": [
  {
   "cell_type": "code",
   "execution_count": 1,
   "outputs": [
    {
     "name": "stdout",
     "output_type": "stream",
     "text": [
      "tensor([[1, 2],\n",
      "        [3, 4]], dtype=torch.int32)\n"
     ]
    }
   ],
   "source": [
    "import torch\n",
    "a = [[1,2],[3,4]]\n",
    "t = torch.tensor(a,dtype=torch.int32)\n",
    "print(t)"
   ],
   "metadata": {
    "collapsed": false,
    "pycharm": {
     "name": "#%%\n"
    }
   }
  },
  {
   "cell_type": "code",
   "execution_count": 2,
   "outputs": [
    {
     "name": "stdout",
     "output_type": "stream",
     "text": [
      "tensor([[1., 1.],\n",
      "        [1., 1.]], dtype=torch.float64)\n",
      "tensor([[0.2591, 0.8321],\n",
      "        [0.5389, 0.6377]])\n"
     ]
    }
   ],
   "source": [
    "x_ones = torch.ones_like(t,dtype=torch.float64)\n",
    "print(x_ones)\n",
    "x_num = torch.rand_like(t,dtype = torch.float32)\n",
    "print(x_num)"
   ],
   "metadata": {
    "collapsed": false,
    "pycharm": {
     "name": "#%%\n"
    }
   }
  },
  {
   "cell_type": "code",
   "execution_count": 56,
   "outputs": [
    {
     "name": "stdout",
     "output_type": "stream",
     "text": [
      "tensor([[1., 3., 5.],\n",
      "        [2., 4., 6.]]) tensor([[1., 2.],\n",
      "        [3., 4.],\n",
      "        [5., 6.]])\n",
      "tensor([[35., 44.],\n",
      "        [44., 56.]])\n",
      "tensor([[ 1.,  9., 25.],\n",
      "        [ 4., 16., 36.]])\n"
     ]
    }
   ],
   "source": [
    "import torch\n",
    "a = [[1,2],[3,4],[5,6]]\n",
    "b = [[1,2],[3,4],[5,6]]\n",
    "t1 = torch.tensor(a,dtype=torch.float32).T\n",
    "t2 = torch.tensor(a,dtype=torch.float32)\n",
    "print(t1,t2)\n",
    "print(t1@t2)\n",
    "print(t1*t2.T)\n"
   ],
   "metadata": {
    "collapsed": false,
    "pycharm": {
     "name": "#%%\n"
    }
   }
  },
  {
   "cell_type": "code",
   "execution_count": 70,
   "outputs": [
    {
     "name": "stdout",
     "output_type": "stream",
     "text": [
      "tensor([[1., 3., 5.],\n",
      "        [2., 4., 6.]])\n",
      "tensor([[1., 2.],\n",
      "        [3., 4.],\n",
      "        [5., 6.]])\n",
      "tensor(1.8708)\n",
      "tensor(3.)\n",
      "tensor(3.5000)\n",
      "1.8708286933869707\n"
     ]
    }
   ],
   "source": [
    "print(t1)\n",
    "print(t2)\n",
    "print(t.std())\n",
    "print(t.median())\n",
    "print(t.var())\n",
    "import math\n",
    "print(math.sqrt(t.var()))"
   ],
   "metadata": {
    "collapsed": false,
    "pycharm": {
     "name": "#%%\n"
    }
   }
  },
  {
   "cell_type": "code",
   "execution_count": null,
   "outputs": [],
   "source": [],
   "metadata": {
    "collapsed": false,
    "pycharm": {
     "name": "#%%\n"
    }
   }
  }
 ],
 "metadata": {
  "kernelspec": {
   "display_name": "Python 3",
   "language": "python",
   "name": "python3"
  },
  "language_info": {
   "codemirror_mode": {
    "name": "ipython",
    "version": 2
   },
   "file_extension": ".py",
   "mimetype": "text/x-python",
   "name": "python",
   "nbconvert_exporter": "python",
   "pygments_lexer": "ipython2",
   "version": "2.7.6"
  }
 },
 "nbformat": 4,
 "nbformat_minor": 0
}